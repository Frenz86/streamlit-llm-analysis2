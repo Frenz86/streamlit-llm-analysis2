{
 "cells": [
  {
   "cell_type": "code",
   "execution_count": 1,
   "metadata": {},
   "outputs": [
    {
     "name": "stdout",
     "output_type": "stream",
     "text": [
      "NAME     \tID          \tSIZE  \tMODIFIED     \n",
      "phi3:3.8b\ta2c89ceaed85\t2.3 GB\t22 hours ago\t\n"
     ]
    }
   ],
   "source": [
    "!ollama list"
   ]
  },
  {
   "cell_type": "code",
   "execution_count": 2,
   "metadata": {},
   "outputs": [],
   "source": [
    "from langchain_community.chat_models import ChatOllama"
   ]
  },
  {
   "cell_type": "code",
   "execution_count": 3,
   "metadata": {},
   "outputs": [],
   "source": [
    "# local_model = \"phi3:3.8b\"\n",
    "# llm = ChatOllama(model=local_model, temperature=1)"
   ]
  },
  {
   "cell_type": "code",
   "execution_count": 6,
   "metadata": {},
   "outputs": [
    {
     "name": "stdout",
     "output_type": "stream",
     "text": [
      "The Moon\n",
      "\n",
      "The Moon is the natural satellite of Earth, orbiting our planet at an average distance of about 239,000 miles (384,000 kilometers). It is the fifth-largest moon in the solar system and the largest satellite relative to its parent planet. The Moon is a significant object in the Earth's orbit, playing a crucial role in the tides, the stability of Earth's axis, and the development of life on our planet.\n",
      "\n",
      "Formation of the Moon\n",
      "\n",
      "The Moon is believed to have formed about 4.5 billion years ago, shortly after the formation of the Earth. One theory is that the Moon was created when a massive object collided with the Earth, causing debris to be thrown into orbit and eventually coalesce into the Moon. This theory is supported by the similarity in the composition of the Earth and the Moon, suggesting a common origin.\n",
      "\n",
      "Another theory is that the Moon formed from the debris left over after a massive object collided with the Earth, causing the Earth's mantle and crust to be thrown into space. Over time, this debris cooled and condensed, eventually forming the Moon.\n",
      "\n",
      "Physical Characteristics\n",
      "\n",
      "The Moon is a rocky, airless body with a cratered surface. It has a diameter of about 2,159 miles (3,475 kilometers), which is about one-quarter the diameter of the Earth. The Moon's surface is characterized by dark, lava-filled basins known as \"seas,\" which are visible from Earth as large, dark spots. The most prominent of these is the Mare Imbrium, Mare Serenitatis, and Mare Crisium.\n",
      "\n",
      "The Moon's surface is also characterized by mountains, craters, and highlands. The highest mountain on the Moon is the Mons Vinogradov, which is about 12,000 feet (3,658 meters) tall. The Moon's surface is also home to many craters, including the largest, the Mare Orientale, which is about 700 miles (1,127 kilometers) in diameter.\n",
      "\n",
      "Orbit and Rotation\n",
      "\n",
      "The Moon orbits the Earth at an average distance of about 239,000 miles (384,000 kilometers), which is about 30 times the distance between the Earth and the Sun. The Moon's orbit is elliptical, which means that its distance from the Earth varies throughout the month. At its closest point, known as perigee, the Moon is about 225,622 miles (362,622 kilometers) away from the Earth, and at its farthest point, known as apogee, it is about 252,088 miles (405,696 kilometers) away.\n",
      "\n",
      "The Moon takes about 27.3 days to complete one orbit around the Earth, which is the same amount of time it takes to rotate once on its axis. This means that the Moon's rotation is synchronized with its orbit, a phenomenon known as tidal locking. This means that the same side of the Moon always faces the Earth, a phenomenon known as the \"far side\" or \"dark side\" of the Moon.\n",
      "\n",
      "Tides\n",
      "\n",
      "The Moon's gravitational pull has a significant effect on the Earth's oceans, causing the tides. The Moon's gravity causes the water in the oceans to bulge out in two areas: one on the side of the Earth facing the Moon and the other on the opposite side of the Earth. This creates two high tides and two low tides each day, as the Earth rotates relative to the Moon's position.\n",
      "\n",
      "The Moon's gravitational pull also causes the Earth's axis to wobble slightly, which is known as the precession of the equinoxes. This means that the position of the North Star, which is the star that is aligned with the Earth's axis, changes over a period of about 26,000 years.\n",
      "\n",
      "Impact on the Earth\n",
      "\n",
      "The Moon has had a significant impact on the Earth's development and evolution. The Moon's gravitational pull has helped to stabilize the Earth's axis, which is tilted at an angle of about 23.5 degrees. This tilt is responsible for the changing seasons on Earth.\n",
      "\n",
      "The Moon's gravitational pull has also helped to regulate the Earth's climate. The Moon's gravitational pull causes the Earth's oceans to bulge out, which helps to distribute heat around the globe. This helps to regulate the Earth's climate and maintain a stable temperature.\n",
      "\n",
      "The Moon has also played a significant role in the development of life on Earth. The Moon's gravitational pull has helped to stabilize the Earth's axis, which has allowed for the development of complex life forms. The Moon's gravitational pull has also helped to regulate the Earth's climate, which has allowed for the development of life in a wide range of environments.\n",
      "\n",
      "Conclusion\n",
      "\n",
      "The Moon is a significant object in the Earth's orbit, playing a crucial role in the tides, the stability of the Earth's axis, and the development of life on our planet. The Moon's formation is believed to have occurred about 4.5 billion years ago, shortly after the formation of the Earth. The Moon's surface is characterized by dark, lava-filled basins, mountains, craters, and highlands. The Moon's orbit is elliptical, and it takes about 27.3 days to complete one orbit around the Earth. The Moon's gravitational pull has a significant impact on the Earth's oceans, causing the tides, and it has also helped to regulate the Earth's climate and stabilize the Earth's axis. The Moon has played a significant role in the development of life on Earth, and it continues to be an important object of study and exploration for scientists and space enthusiasts alike."
     ]
    }
   ],
   "source": [
    "from langchain_community.chat_models import ChatOllama\n",
    "from langchain_core.output_parsers import StrOutputParser\n",
    "from langchain_core.prompts import ChatPromptTemplate\n",
    "from langchain_groq import ChatGroq\n",
    "\n",
    "llm = ChatGroq(temperature=0, model_name=\"llama3-8b-8192\")\n",
    "\n",
    "prompt = ChatPromptTemplate.from_messages([(\"human\", \"Write a 1000 words document about: {topic}\")])\n",
    "chain = prompt | llm \n",
    "for chunk in chain.stream({\"topic\": \"The Moon\"}):\n",
    "    print(chunk.content, end=\"\", flush=True)"
   ]
  },
  {
   "cell_type": "code",
   "execution_count": null,
   "metadata": {},
   "outputs": [],
   "source": []
  }
 ],
 "metadata": {
  "kernelspec": {
   "display_name": "venv",
   "language": "python",
   "name": "python3"
  },
  "language_info": {
   "codemirror_mode": {
    "name": "ipython",
    "version": 3
   },
   "file_extension": ".py",
   "mimetype": "text/x-python",
   "name": "python",
   "nbconvert_exporter": "python",
   "pygments_lexer": "ipython3",
   "version": "3.10.12"
  }
 },
 "nbformat": 4,
 "nbformat_minor": 2
}
